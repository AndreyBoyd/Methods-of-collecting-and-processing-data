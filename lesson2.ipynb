{
 "cells": [
  {
   "cell_type": "markdown",
   "metadata": {},
   "source": [
    "### Урок 2\n",
    "\n",
    "#### Парсинг HTML. BeautifulSoup, MongoDB\n",
    "\n",
    "1) Необходимо собрать информацию о вакансиях на вводимую должность (используем input или через аргументы) с сайта superjob.ru и hh.ru. Приложение должно анализировать несколько страниц сайта(также вводим через input или аргументы). Получившийся список должен содержать в себе минимум:\n",
    "\n",
    "*Наименование вакансии\n",
    "*Предлагаемую зарплату (отдельно мин. и и отдельно макс.)\n",
    "*Ссылку на саму вакансию        \n",
    "*Сайт откуда собрана вакансия\n",
    "\n",
    "По своему желанию можно добавить еще работодателя и расположение. Данная структура должна быть одинаковая для вакансий с обоих сайтов. Общий результат можно вывести с помощью dataFrame через pandas."
   ]
  },
  {
   "cell_type": "code",
   "execution_count": null,
   "metadata": {},
   "outputs": [],
   "source": [
    "from bs4 import BeautifulSoup as bs\n",
    "import requests\n",
    "import re\n",
    "import pandas as pd"
   ]
  },
  {
   "cell_type": "code",
   "execution_count": null,
   "metadata": {},
   "outputs": [],
   "source": [
    "def _parser_superjob(vacancy):\n",
    "    vacancy_date = []\n",
    "    \n",
    "    params = {\n",
    "        'keywords': vacancy\n",
    "    }\n",
    "    \n",
    "    headers = {\n",
    "        'User-Agent': 'Mozilla/5.0 (X11; Linux x86_64; rv:69.0) Gecko/20100101 Firefox/69.0'\n",
    "    }\n",
    "    \n",
    "    link = 'https://www.superjob.ru/vacancy/search/'\n",
    "       \n",
    "    html = requests.get(link, params=params, headers=headers)\n",
    "    \n",
    "    if html.ok:\n",
    "        parsed_html = bs(html.text,'html.parser')\n",
    "    \n",
    "        page_block = parsed_html.find('a', {'class': 'f-test-button-1'})\n",
    "    if not page_block:\n",
    "        last_page = 1\n",
    "    else:\n",
    "        page_block = page_block.findParent()\n",
    "        last_page = int(page_block.find_all('a')[-2].getText())\n",
    "    \n",
    "    for page in range(0, last_page + 1):\n",
    "        params['page'] = page\n",
    "        html = requests.get(link, params=params, headers=headers)\n",
    "        \n",
    "        if html.ok:\n",
    "            parsed_html = bs(html.text,'html.parser')\n",
    "            vacancy_items = parsed_html.find_all('div', {'class': 'f-test-vacancy-item'})\n",
    "                        \n",
    "            for item in vacancy_items:\n",
    "                vacancy_date.append(_parser_item_superjob(item))\n",
    "                \n",
    "    return vacancy_date"
   ]
  },
  {
   "cell_type": "code",
   "execution_count": null,
   "metadata": {},
   "outputs": [],
   "source": [
    "def _parser_item_superjob(item):\n",
    "\n",
    "    vacancy_date = {}\n",
    "    \n",
    "    # vacancy_name\n",
    "    vacancy_name = item.find_all('a')\n",
    "    if len(vacancy_name) > 1:\n",
    "        vacancy_name = vacancy_name[-2].getText()\n",
    "    else:\n",
    "        vacancy_name = vacancy_name[0].getText()\n",
    "    vacancy_date['vacancy_name'] = vacancy_name\n",
    "    \n",
    "    # company_name\n",
    "    company_name = item.find('span', {'class': 'f-test-text-vacancy-item-company-name'})\n",
    "    \n",
    "    if not company_name:\n",
    "        company_name = item.findParent() \\\n",
    "                            .find('span', {'class': 'f-test-text-vacancy-item-company-name'}) \\\n",
    "                            .getText()\n",
    "    else:\n",
    "        company_name = company_name.getText()\n",
    "    \n",
    "    vacancy_date['company_name'] = company_name\n",
    "    \n",
    "    #salary\n",
    "    salary = item.find('span', {'class': 'f-test-text-company-item-salary'}) \\\n",
    "                  .findChildren()\n",
    "    if not salary:\n",
    "        salary_min = None\n",
    "        salary_max = None\n",
    "        salary_currency = None\n",
    "    else:\n",
    "        salary_currency = salary[-1].getText()\n",
    "        salary = item.find('span', {'class': 'f-test-text-company-item-salary'}) \\\n",
    "                                .getText() \\\n",
    "                                .replace(u'\\xa0', u' ') \\\n",
    "                                .split(' ', 1)[0]\n",
    "        if salary == 'до' or len(salary) == 2:\n",
    "            salary_min = None\n",
    "            salary_max = None\n",
    "        elif salary == 'от':\n",
    "            salary_min = None\n",
    "            salary_max = None\n",
    "        else:\n",
    "            salary_min = None\n",
    "            salary_max = None           \n",
    "        \n",
    "    vacancy_date['salary_min'] = salary_min\n",
    "    vacancy_date['salary_max'] = salary_max\n",
    "    vacancy_date['salary_currency'] = salary_currency\n",
    "    \n",
    "    \n",
    "    # link\n",
    "    vacancy_link = item.find_all('a')\n",
    "    \n",
    "    if len(vacancy_link) > 1:\n",
    "        vacancy_link = vacancy_link[-2]['href']\n",
    "    else:\n",
    "        vacancy_link = vacancy_link[0]['href']\n",
    "    \n",
    "    vacancy_date['vacancy_link'] = f'https://www.superjob.ru{vacancy_link }'\n",
    "    \n",
    "    # site\n",
    "    vacancy_date['site'] = 'www.superjob.ru'\n",
    "    \n",
    "    return vacancy_date"
   ]
  },
  {
   "cell_type": "code",
   "execution_count": null,
   "metadata": {},
   "outputs": [],
   "source": [
    "def parser_vacancy(vacancy):\n",
    "        \n",
    "    vacancy_date = []\n",
    "    vacancy_date.extend(_parser_superjob(vacancy))\n",
    "    \n",
    "    df = pd.DataFrame(vacancy_date)\n",
    "\n",
    "    return df"
   ]
  },
  {
   "cell_type": "code",
   "execution_count": null,
   "metadata": {},
   "outputs": [],
   "source": [
    "vacancy = 'Python'\n",
    "df = parser_vacancy(vacancy)"
   ]
  },
  {
   "cell_type": "code",
   "execution_count": null,
   "metadata": {},
   "outputs": [],
   "source": [
    "df[0:100]"
   ]
  },
  {
   "cell_type": "code",
   "execution_count": null,
   "metadata": {},
   "outputs": [],
   "source": []
  }
 ],
 "metadata": {
  "kernelspec": {
   "display_name": "Python 3",
   "language": "python",
   "name": "python3"
  },
  "language_info": {
   "codemirror_mode": {
    "name": "ipython",
    "version": 3
   },
   "file_extension": ".py",
   "mimetype": "text/x-python",
   "name": "python",
   "nbconvert_exporter": "python",
   "pygments_lexer": "ipython3",
   "version": "3.8.5"
  }
 },
 "nbformat": 4,
 "nbformat_minor": 4
}
